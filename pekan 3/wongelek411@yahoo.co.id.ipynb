{
 "cells": [
  {
   "cell_type": "markdown",
   "metadata": {
    "colab_type": "text",
    "id": "Mk6qjezc8tPu"
   },
   "source": [
    "# Quiz Pekan - 3\n",
    "\n",
    "Dataset-dataset berikut ini menunjukkan persentase fat, protein, dan food yang dikonsumsi dari setiap jenis makanan yang terdaftar. Beberapa bagian akhir dataset juga mencakup persentase obesitas(Obesity), kurang gizi(Undernourished), dan kasus COVID-19 yang Terkonfirmasi(Confirmed)/Kematian(Deaths)/Sembuh(Recovered)/Aktif(Active).\n",
    "\n",
    "(Catatan: Semua data memiliki unit '%' (persen) kecuali Populasi, unit persen tersebut dihitung berdasarkan jumlah populasi).\n",
    "\n",
    "Link Download:\n",
    "\n",
    "[Food_Supply_Quantity_kg_Data.csv](https://drive.google.com/uc?export=download&id=1op0PFMMNglFtw8GVOF6HmomyAvgoY4jm)\n",
    "\n",
    "[Protein_Supply_Quantity_Data.csv](https://drive.google.com/uc?export=download&id=19vFZ1clhjY0vyC8onnlYE63w1QpmB4oj)\n",
    "\n",
    "[Fat_Supply_Quantity_Data.csv](https://drive.google.com/uc?export=download&id=1W1xIj5dGe9aLcg9cG6HVjlpdSqdlbue2)\n",
    "\n",
    "[Supply_Food_Data_Descriptions.csv](https://drive.google.com/uc?export=download&id=1hG4_-D0doXkTU1e7sqZabpRXgCkHt5Hr)"
   ]
  },
  {
   "cell_type": "code",
   "execution_count": 158,
   "metadata": {
    "colab": {},
    "colab_type": "code",
    "id": "NGNbQVKm4vgv"
   },
   "outputs": [],
   "source": [
    "import numpy as np\n",
    "import pandas as pd\n",
    "import matplotlib.pyplot as plt\n",
    "\n",
    "# Import Semua Data\n",
    "df_food = pd.read_csv('Food_Supply_Quantity_kg_Data.csv')\n",
    "df_protein = pd.read_csv('Protein_Supply_Quantity_Data.csv')\n",
    "df_fat = pd.read_csv('Fat_Supply_Quantity_Data.csv')\n",
    "df_category = pd.read_csv('Supply_Food_Data_Descriptions.csv')"
   ]
  },
  {
   "cell_type": "markdown",
   "metadata": {
    "colab_type": "text",
    "id": "Aj2MY336-ylZ"
   },
   "source": [
    "---"
   ]
  },
  {
   "cell_type": "markdown",
   "metadata": {
    "colab_type": "text",
    "id": "xWD8Zh-r_TxA"
   },
   "source": [
    "# Soal 1: Memisahkan kolom pada supply dataset antara kategori makanan dan bukan makanan"
   ]
  },
  {
   "cell_type": "markdown",
   "metadata": {
    "colab_type": "text",
    "id": "s4OM-RnaAQKl"
   },
   "source": [
    "Teman-teman diminta untuk menampilkan list kolom-kolom pada supply DataFrame dengan ketentuan sebagai berikut:\n",
    "\n",
    "*   all columns: list yang berisikan semua kolom pada supply DataFrame\n",
    "*   supply columns: list yang berisikan semua kolom pada supply DataFrame berdasarkan kolom 'Categories' pada DataFrame df_category\n",
    "*   non-supply columns: list yang berisikan semua kolom non-supply pada supply DataFrame\n"
   ]
  },
  {
   "cell_type": "code",
   "execution_count": 159,
   "metadata": {
    "colab": {},
    "colab_type": "code",
    "id": "8aHiCSZh5q1g"
   },
   "outputs": [
    {
     "name": "stdout",
     "output_type": "stream",
     "text": [
      "All Columns : ['Country', 'Alcoholic Beverages', 'Animal fats', 'Animal Products', 'Aquatic Products, Other', 'Cereals - Excluding Beer', 'Eggs', 'Fish, Seafood', 'Fruits - Excluding Wine', 'Meat', 'Milk - Excluding Butter', 'Miscellaneous', 'Offals', 'Oilcrops', 'Pulses', 'Spices', 'Starchy Roots', 'Stimulants', 'Sugar & Sweeteners', 'Sugar Crops', 'Treenuts', 'Vegetable Oils', 'Vegetables', 'Vegetal Products', 'Obesity', 'Undernourished', 'Confirmed', 'Deaths', 'Recovered', 'Active', 'Population', 'Unit (all except Population)'] \n",
      "\n",
      "\n",
      "Supply Columns : ['Alcoholic Beverages', 'Animal fats', 'Animal Products', 'Aquatic Products, Other', 'Cereals - Excluding Beer', 'Eggs', 'Fish, Seafood', 'Fruits - Excluding Wine', 'Meat', 'Milk - Excluding Butter', 'Miscellaneous', 'Offals', 'Oilcrops', 'Pulses', 'Spices', 'Starchy Roots', 'Stimulants', 'Sugar & Sweeteners', 'Sugar Crops', 'Treenuts', 'Vegetable Oils', 'Vegetables', 'Vegetal Products'] \n",
      " \n",
      "\n",
      "Non Supply Columns : ['Country', 'Obesity', 'Undernourished', 'Confirmed', 'Deaths', 'Recovered', 'Active', 'Population', 'Unit (all except Population)'] \n",
      " \n",
      "\n"
     ]
    }
   ],
   "source": [
    "# Example\n",
    "all_columns = df_food.columns.tolist()\n",
    "print(f'All Columns : {all_columns} \\n\\n')\n",
    "\n",
    "# Code here\n",
    "supply_columns = df_category[\"Categories\"].tolist()\n",
    "print(f'Supply Columns : {supply_columns} \\n \\n')\n",
    "\n",
    "non_supply_columns = list(i for i in all_columns if i not in supply_columns)\n",
    "print(f'Non Supply Columns : {non_supply_columns} \\n \\n')"
   ]
  },
  {
   "cell_type": "markdown",
   "metadata": {
    "colab_type": "text",
    "id": "A84xqzyoC0jU"
   },
   "source": [
    "Expected Output:\n",
    "\n",
    "![Expected Output:](https://drive.google.com/uc?id=1ItjI9ALd2I8tgJ2i8pa_UjdFfKS35mNu)"
   ]
  },
  {
   "cell_type": "markdown",
   "metadata": {
    "colab_type": "text",
    "id": "gnRBLXPZC3PD"
   },
   "source": [
    "---"
   ]
  },
  {
   "cell_type": "markdown",
   "metadata": {
    "colab_type": "text",
    "id": "zVjfRh2xDC8g"
   },
   "source": [
    "# Soal 2: Menggabungkan DataFrame\n",
    "\n"
   ]
  },
  {
   "cell_type": "markdown",
   "metadata": {
    "colab_type": "text",
    "id": "-xRZSuKBDYeQ"
   },
   "source": [
    "Gabungkan semua supply DataFrame dengan ketentuan tidak ada kolom dengan nama yang sama. Untuk kolom-kolom non-supply seperti tersebut di atas, memiliki nilai yang sama untuk setiap DataFrame, sehingga cukup ambil dari salah satu DataFrame. Sedangkan untuk kolom-kolom supply seperti tersebut di atas, setiap DataFrame (df_food, df_protein, df_fat) memiliki nilai yang berbeda, sehingga teman-teman perlu menambahkan suffix berdasarkan jenis supply DataFrame-nya, misalkan untuk kolom 'eggs' teman teman harus menambahkan suffix sehingga DataFrame gabungan memiliki kolom 'eggs_food', 'eggs_protein', dan 'eggs_fat'. Untuk mendapatkan gambaran lebih jelas, silahkan lihat pada expected output."
   ]
  },
  {
   "cell_type": "markdown",
   "metadata": {
    "colab_type": "text",
    "id": "UWBJLohAKODF"
   },
   "source": [
    "List kolom-kolom DataFrame hasil gabungan adalah sebagai berikut:\n",
    "\n",
    "\n",
    "```\n",
    " ['Country', 'Alcoholic Beverages_food', 'Animal fats_food',\n",
    "  'Animal Products_food', 'Aquatic Products, Other_food',\n",
    "  'Cereals - Excluding Beer_food', 'Eggs_food', 'Fish, Seafood_food',\n",
    "  'Fruits - Excluding Wine_food', 'Meat_food',\n",
    "  'Milk - Excluding Butter_food', 'Miscellaneous_food', 'Offals_food',\n",
    "  'Oilcrops_food', 'Pulses_food', 'Spices_food', 'Starchy Roots_food',\n",
    "  'Stimulants_food', 'Sugar & Sweeteners_food', 'Sugar Crops_food',\n",
    "  'Treenuts_food', 'Vegetable Oils_food', 'Vegetables_food',\n",
    "  'Vegetal Products_food', 'Alcoholic Beverages_protein',\n",
    "  'Animal fats_protein', 'Animal Products_protein',\n",
    "  'Aquatic Products, Other_protein', 'Cereals - Excluding Beer_protein',\n",
    "  'Eggs_protein', 'Fish, Seafood_protein',\n",
    "  'Fruits - Excluding Wine_protein', 'Meat_protein',\n",
    "  'Milk - Excluding Butter_protein', 'Miscellaneous_protein',\n",
    "  'Offals_protein', 'Oilcrops_protein', 'Pulses_protein',\n",
    "  'Spices_protein', 'Starchy Roots_protein', 'Stimulants_protein',\n",
    "  'Sugar & Sweeteners_protein', 'Sugar Crops_protein', 'Treenuts_protein',\n",
    "  'Vegetable Oils_protein', 'Vegetables_protein',\n",
    "  'Vegetal Products_protein', 'Alcoholic Beverages_fat',\n",
    "  'Animal fats_fat', 'Animal Products_fat', 'Aquatic Products, Other_fat',\n",
    "  'Cereals - Excluding Beer_fat', 'Eggs_fat', 'Fish, Seafood_fat',\n",
    "  'Fruits - Excluding Wine_fat', 'Meat_fat',\n",
    "  'Milk - Excluding Butter_fat', 'Miscellaneous_fat', 'Offals_fat',\n",
    "  'Oilcrops_fat', 'Pulses_fat', 'Spices_fat', 'Starchy Roots_fat',\n",
    "  'Stimulants_fat', 'Sugar & Sweeteners_fat', 'Sugar Crops_fat',\n",
    "  'Treenuts_fat', 'Vegetable Oils_fat', 'Vegetables_fat',\n",
    "  'Vegetal Products_fat', 'Obesity', 'Undernourished', 'Confirmed',\n",
    "  'Deaths', 'Recovered', 'Active', 'Population',\n",
    "  'Unit (all except Population)']\n",
    "```"
   ]
  },
  {
   "cell_type": "code",
   "execution_count": 160,
   "metadata": {
    "colab": {},
    "colab_type": "code",
    "id": "v8_WdQrCFvbY"
   },
   "outputs": [],
   "source": [
    "# Hint\n",
    "df_non_supply_new = df_food[non_supply_columns]\n",
    "df_food_new = df_food[['Country']+supply_columns]\n",
    "df_protein_new = df_protein[['Country']+supply_columns]\n",
    "df_fat_new = df_fat[['Country']+supply_columns]\n"
   ]
  },
  {
   "cell_type": "code",
   "execution_count": 161,
   "metadata": {
    "colab": {},
    "colab_type": "code",
    "id": "jtV0pJZGFwne"
   },
   "outputs": [
    {
     "data": {
      "text/html": [
       "<div>\n",
       "<style scoped>\n",
       "    .dataframe tbody tr th:only-of-type {\n",
       "        vertical-align: middle;\n",
       "    }\n",
       "\n",
       "    .dataframe tbody tr th {\n",
       "        vertical-align: top;\n",
       "    }\n",
       "\n",
       "    .dataframe thead th {\n",
       "        text-align: right;\n",
       "    }\n",
       "</style>\n",
       "<table border=\"1\" class=\"dataframe\">\n",
       "  <thead>\n",
       "    <tr style=\"text-align: right;\">\n",
       "      <th></th>\n",
       "      <th>Country</th>\n",
       "      <th>Alcoholic Beverages_food</th>\n",
       "      <th>Animal fats_food</th>\n",
       "      <th>Animal Products_food</th>\n",
       "      <th>Aquatic Products, Other_food</th>\n",
       "      <th>Cereals - Excluding Beer_food</th>\n",
       "      <th>Eggs_food</th>\n",
       "      <th>Fish, Seafood_food</th>\n",
       "      <th>Fruits - Excluding Wine_food</th>\n",
       "      <th>Meat_food</th>\n",
       "      <th>...</th>\n",
       "      <th>Vegetables_fat</th>\n",
       "      <th>Vegetal Products_fat</th>\n",
       "      <th>Obesity</th>\n",
       "      <th>Undernourished</th>\n",
       "      <th>Confirmed</th>\n",
       "      <th>Deaths</th>\n",
       "      <th>Recovered</th>\n",
       "      <th>Active</th>\n",
       "      <th>Population</th>\n",
       "      <th>Unit (all except Population)</th>\n",
       "    </tr>\n",
       "  </thead>\n",
       "  <tbody>\n",
       "    <tr>\n",
       "      <th>0</th>\n",
       "      <td>Afghanistan</td>\n",
       "      <td>0.0014</td>\n",
       "      <td>0.1973</td>\n",
       "      <td>9.4341</td>\n",
       "      <td>0.0000</td>\n",
       "      <td>24.8097</td>\n",
       "      <td>0.2099</td>\n",
       "      <td>0.0350</td>\n",
       "      <td>5.3495</td>\n",
       "      <td>1.2020</td>\n",
       "      <td>...</td>\n",
       "      <td>0.3593</td>\n",
       "      <td>28.3684</td>\n",
       "      <td>4.5</td>\n",
       "      <td>29.8</td>\n",
       "      <td>0.081402</td>\n",
       "      <td>0.001895</td>\n",
       "      <td>0.033132</td>\n",
       "      <td>0.046375</td>\n",
       "      <td>38042000.0</td>\n",
       "      <td>%</td>\n",
       "    </tr>\n",
       "    <tr>\n",
       "      <th>1</th>\n",
       "      <td>Albania</td>\n",
       "      <td>1.6719</td>\n",
       "      <td>0.1357</td>\n",
       "      <td>18.7684</td>\n",
       "      <td>0.0000</td>\n",
       "      <td>5.7817</td>\n",
       "      <td>0.5815</td>\n",
       "      <td>0.2126</td>\n",
       "      <td>6.7861</td>\n",
       "      <td>1.8845</td>\n",
       "      <td>...</td>\n",
       "      <td>0.6503</td>\n",
       "      <td>17.9998</td>\n",
       "      <td>22.3</td>\n",
       "      <td>6.2</td>\n",
       "      <td>0.084045</td>\n",
       "      <td>0.001924</td>\n",
       "      <td>0.048425</td>\n",
       "      <td>0.033695</td>\n",
       "      <td>2858000.0</td>\n",
       "      <td>%</td>\n",
       "    </tr>\n",
       "    <tr>\n",
       "      <th>2</th>\n",
       "      <td>Algeria</td>\n",
       "      <td>0.2711</td>\n",
       "      <td>0.0282</td>\n",
       "      <td>9.6334</td>\n",
       "      <td>0.0000</td>\n",
       "      <td>13.6816</td>\n",
       "      <td>0.5277</td>\n",
       "      <td>0.2416</td>\n",
       "      <td>6.3801</td>\n",
       "      <td>1.1305</td>\n",
       "      <td>...</td>\n",
       "      <td>0.5145</td>\n",
       "      <td>35.5857</td>\n",
       "      <td>26.6</td>\n",
       "      <td>3.9</td>\n",
       "      <td>0.030579</td>\n",
       "      <td>0.002067</td>\n",
       "      <td>0.021589</td>\n",
       "      <td>0.006923</td>\n",
       "      <td>43406000.0</td>\n",
       "      <td>%</td>\n",
       "    </tr>\n",
       "    <tr>\n",
       "      <th>3</th>\n",
       "      <td>Angola</td>\n",
       "      <td>5.8087</td>\n",
       "      <td>0.0560</td>\n",
       "      <td>4.9278</td>\n",
       "      <td>0.0000</td>\n",
       "      <td>9.1085</td>\n",
       "      <td>0.0587</td>\n",
       "      <td>1.7707</td>\n",
       "      <td>6.0005</td>\n",
       "      <td>2.0571</td>\n",
       "      <td>...</td>\n",
       "      <td>0.1231</td>\n",
       "      <td>34.7010</td>\n",
       "      <td>6.8</td>\n",
       "      <td>25</td>\n",
       "      <td>0.000850</td>\n",
       "      <td>0.000035</td>\n",
       "      <td>0.000258</td>\n",
       "      <td>0.000557</td>\n",
       "      <td>31427000.0</td>\n",
       "      <td>%</td>\n",
       "    </tr>\n",
       "    <tr>\n",
       "      <th>4</th>\n",
       "      <td>Antigua and Barbuda</td>\n",
       "      <td>3.5764</td>\n",
       "      <td>0.0087</td>\n",
       "      <td>16.6613</td>\n",
       "      <td>0.0000</td>\n",
       "      <td>5.9960</td>\n",
       "      <td>0.2274</td>\n",
       "      <td>4.1489</td>\n",
       "      <td>10.7451</td>\n",
       "      <td>5.6888</td>\n",
       "      <td>...</td>\n",
       "      <td>0.2469</td>\n",
       "      <td>22.2995</td>\n",
       "      <td>19.1</td>\n",
       "      <td>NaN</td>\n",
       "      <td>0.071134</td>\n",
       "      <td>0.003093</td>\n",
       "      <td>0.022680</td>\n",
       "      <td>0.045361</td>\n",
       "      <td>97000.0</td>\n",
       "      <td>%</td>\n",
       "    </tr>\n",
       "    <tr>\n",
       "      <th>...</th>\n",
       "      <td>...</td>\n",
       "      <td>...</td>\n",
       "      <td>...</td>\n",
       "      <td>...</td>\n",
       "      <td>...</td>\n",
       "      <td>...</td>\n",
       "      <td>...</td>\n",
       "      <td>...</td>\n",
       "      <td>...</td>\n",
       "      <td>...</td>\n",
       "      <td>...</td>\n",
       "      <td>...</td>\n",
       "      <td>...</td>\n",
       "      <td>...</td>\n",
       "      <td>...</td>\n",
       "      <td>...</td>\n",
       "      <td>...</td>\n",
       "      <td>...</td>\n",
       "      <td>...</td>\n",
       "      <td>...</td>\n",
       "      <td>...</td>\n",
       "    </tr>\n",
       "    <tr>\n",
       "      <th>165</th>\n",
       "      <td>Venezuela (Bolivarian Republic of)</td>\n",
       "      <td>2.5952</td>\n",
       "      <td>0.0403</td>\n",
       "      <td>14.7565</td>\n",
       "      <td>0.0000</td>\n",
       "      <td>12.9253</td>\n",
       "      <td>0.3389</td>\n",
       "      <td>0.9456</td>\n",
       "      <td>7.6460</td>\n",
       "      <td>3.8328</td>\n",
       "      <td>...</td>\n",
       "      <td>0.1851</td>\n",
       "      <td>33.6855</td>\n",
       "      <td>25.2</td>\n",
       "      <td>21.2</td>\n",
       "      <td>0.018576</td>\n",
       "      <td>0.000154</td>\n",
       "      <td>0.005783</td>\n",
       "      <td>0.012639</td>\n",
       "      <td>28516000.0</td>\n",
       "      <td>%</td>\n",
       "    </tr>\n",
       "    <tr>\n",
       "      <th>166</th>\n",
       "      <td>Vietnam</td>\n",
       "      <td>1.4591</td>\n",
       "      <td>0.1640</td>\n",
       "      <td>8.5765</td>\n",
       "      <td>0.0042</td>\n",
       "      <td>16.8740</td>\n",
       "      <td>0.3077</td>\n",
       "      <td>2.6392</td>\n",
       "      <td>5.9029</td>\n",
       "      <td>4.4382</td>\n",
       "      <td>...</td>\n",
       "      <td>0.6373</td>\n",
       "      <td>16.7548</td>\n",
       "      <td>2.1</td>\n",
       "      <td>9.3</td>\n",
       "      <td>0.000371</td>\n",
       "      <td>0.000000</td>\n",
       "      <td>0.000345</td>\n",
       "      <td>0.000026</td>\n",
       "      <td>95656000.0</td>\n",
       "      <td>%</td>\n",
       "    </tr>\n",
       "    <tr>\n",
       "      <th>167</th>\n",
       "      <td>Yemen</td>\n",
       "      <td>0.0364</td>\n",
       "      <td>0.0446</td>\n",
       "      <td>5.7874</td>\n",
       "      <td>0.0000</td>\n",
       "      <td>27.2077</td>\n",
       "      <td>0.2579</td>\n",
       "      <td>0.5240</td>\n",
       "      <td>5.1344</td>\n",
       "      <td>2.7871</td>\n",
       "      <td>...</td>\n",
       "      <td>0.1667</td>\n",
       "      <td>37.4535</td>\n",
       "      <td>14.1</td>\n",
       "      <td>38.9</td>\n",
       "      <td>0.003834</td>\n",
       "      <td>0.001036</td>\n",
       "      <td>0.001475</td>\n",
       "      <td>0.001324</td>\n",
       "      <td>29162000.0</td>\n",
       "      <td>%</td>\n",
       "    </tr>\n",
       "    <tr>\n",
       "      <th>168</th>\n",
       "      <td>Zambia</td>\n",
       "      <td>5.7360</td>\n",
       "      <td>0.0829</td>\n",
       "      <td>6.0197</td>\n",
       "      <td>0.0000</td>\n",
       "      <td>21.1938</td>\n",
       "      <td>0.3399</td>\n",
       "      <td>1.6924</td>\n",
       "      <td>1.0183</td>\n",
       "      <td>1.8427</td>\n",
       "      <td>...</td>\n",
       "      <td>0.1567</td>\n",
       "      <td>40.3939</td>\n",
       "      <td>6.5</td>\n",
       "      <td>46.7</td>\n",
       "      <td>0.008717</td>\n",
       "      <td>0.000123</td>\n",
       "      <td>0.007340</td>\n",
       "      <td>0.001254</td>\n",
       "      <td>17861000.0</td>\n",
       "      <td>%</td>\n",
       "    </tr>\n",
       "    <tr>\n",
       "      <th>169</th>\n",
       "      <td>Zimbabwe</td>\n",
       "      <td>4.0552</td>\n",
       "      <td>0.0755</td>\n",
       "      <td>8.1489</td>\n",
       "      <td>0.0000</td>\n",
       "      <td>22.6240</td>\n",
       "      <td>0.2678</td>\n",
       "      <td>0.5518</td>\n",
       "      <td>2.2000</td>\n",
       "      <td>2.6142</td>\n",
       "      <td>...</td>\n",
       "      <td>0.0789</td>\n",
       "      <td>39.6248</td>\n",
       "      <td>12.3</td>\n",
       "      <td>51.3</td>\n",
       "      <td>0.003872</td>\n",
       "      <td>0.000041</td>\n",
       "      <td>0.000970</td>\n",
       "      <td>0.002861</td>\n",
       "      <td>14645000.0</td>\n",
       "      <td>%</td>\n",
       "    </tr>\n",
       "  </tbody>\n",
       "</table>\n",
       "<p>170 rows × 78 columns</p>\n",
       "</div>"
      ],
      "text/plain": [
       "                                Country  Alcoholic Beverages_food  \\\n",
       "0                           Afghanistan                    0.0014   \n",
       "1                               Albania                    1.6719   \n",
       "2                               Algeria                    0.2711   \n",
       "3                                Angola                    5.8087   \n",
       "4                   Antigua and Barbuda                    3.5764   \n",
       "..                                  ...                       ...   \n",
       "165  Venezuela (Bolivarian Republic of)                    2.5952   \n",
       "166                             Vietnam                    1.4591   \n",
       "167                               Yemen                    0.0364   \n",
       "168                              Zambia                    5.7360   \n",
       "169                            Zimbabwe                    4.0552   \n",
       "\n",
       "     Animal fats_food  Animal Products_food  Aquatic Products, Other_food  \\\n",
       "0              0.1973                9.4341                        0.0000   \n",
       "1              0.1357               18.7684                        0.0000   \n",
       "2              0.0282                9.6334                        0.0000   \n",
       "3              0.0560                4.9278                        0.0000   \n",
       "4              0.0087               16.6613                        0.0000   \n",
       "..                ...                   ...                           ...   \n",
       "165            0.0403               14.7565                        0.0000   \n",
       "166            0.1640                8.5765                        0.0042   \n",
       "167            0.0446                5.7874                        0.0000   \n",
       "168            0.0829                6.0197                        0.0000   \n",
       "169            0.0755                8.1489                        0.0000   \n",
       "\n",
       "     Cereals - Excluding Beer_food  Eggs_food  Fish, Seafood_food  \\\n",
       "0                          24.8097     0.2099              0.0350   \n",
       "1                           5.7817     0.5815              0.2126   \n",
       "2                          13.6816     0.5277              0.2416   \n",
       "3                           9.1085     0.0587              1.7707   \n",
       "4                           5.9960     0.2274              4.1489   \n",
       "..                             ...        ...                 ...   \n",
       "165                        12.9253     0.3389              0.9456   \n",
       "166                        16.8740     0.3077              2.6392   \n",
       "167                        27.2077     0.2579              0.5240   \n",
       "168                        21.1938     0.3399              1.6924   \n",
       "169                        22.6240     0.2678              0.5518   \n",
       "\n",
       "     Fruits - Excluding Wine_food  Meat_food  ...  Vegetables_fat  \\\n",
       "0                          5.3495     1.2020  ...          0.3593   \n",
       "1                          6.7861     1.8845  ...          0.6503   \n",
       "2                          6.3801     1.1305  ...          0.5145   \n",
       "3                          6.0005     2.0571  ...          0.1231   \n",
       "4                         10.7451     5.6888  ...          0.2469   \n",
       "..                            ...        ...  ...             ...   \n",
       "165                        7.6460     3.8328  ...          0.1851   \n",
       "166                        5.9029     4.4382  ...          0.6373   \n",
       "167                        5.1344     2.7871  ...          0.1667   \n",
       "168                        1.0183     1.8427  ...          0.1567   \n",
       "169                        2.2000     2.6142  ...          0.0789   \n",
       "\n",
       "     Vegetal Products_fat  Obesity  Undernourished  Confirmed    Deaths  \\\n",
       "0                 28.3684      4.5            29.8   0.081402  0.001895   \n",
       "1                 17.9998     22.3             6.2   0.084045  0.001924   \n",
       "2                 35.5857     26.6             3.9   0.030579  0.002067   \n",
       "3                 34.7010      6.8              25   0.000850  0.000035   \n",
       "4                 22.2995     19.1             NaN   0.071134  0.003093   \n",
       "..                    ...      ...             ...        ...       ...   \n",
       "165               33.6855     25.2            21.2   0.018576  0.000154   \n",
       "166               16.7548      2.1             9.3   0.000371  0.000000   \n",
       "167               37.4535     14.1            38.9   0.003834  0.001036   \n",
       "168               40.3939      6.5            46.7   0.008717  0.000123   \n",
       "169               39.6248     12.3            51.3   0.003872  0.000041   \n",
       "\n",
       "     Recovered    Active  Population  Unit (all except Population)  \n",
       "0     0.033132  0.046375  38042000.0                             %  \n",
       "1     0.048425  0.033695   2858000.0                             %  \n",
       "2     0.021589  0.006923  43406000.0                             %  \n",
       "3     0.000258  0.000557  31427000.0                             %  \n",
       "4     0.022680  0.045361     97000.0                             %  \n",
       "..         ...       ...         ...                           ...  \n",
       "165   0.005783  0.012639  28516000.0                             %  \n",
       "166   0.000345  0.000026  95656000.0                             %  \n",
       "167   0.001475  0.001324  29162000.0                             %  \n",
       "168   0.007340  0.001254  17861000.0                             %  \n",
       "169   0.000970  0.002861  14645000.0                             %  \n",
       "\n",
       "[170 rows x 78 columns]"
      ]
     },
     "execution_count": 161,
     "metadata": {},
     "output_type": "execute_result"
    }
   ],
   "source": [
    "# Selanjutnya gabungkan dataset pada hint di atas dengan menambahkan suffix berbeda untuk setiap supply dataset menggunakan pd.merge\n",
    "# Code here\n",
    "df_food_new.columns = [col+'_food' if col != 'Country' else col for col in df_food_new.columns]\n",
    "df_protein_new.columns = [col+'_protein' if col != 'Country' else col for col in df_protein_new.columns]\n",
    "df_fat_new.columns = [col+'_fat' if col != 'Country' else col for col in df_fat_new.columns]\n",
    "\n",
    "df = pd.merge(df_food_new,df_protein_new,on='Country',how='outer').reset_index(drop=True)\n",
    "df2 = pd.merge(df,df_fat_new,on='Country',how='outer').reset_index(drop=True)\n",
    "df3 = pd.merge(df2,df_non_supply_new,on='Country',how='outer').reset_index(drop=True)\n",
    "df3"
   ]
  },
  {
   "cell_type": "markdown",
   "metadata": {
    "colab_type": "text",
    "id": "5xLsdo-1vmk3"
   },
   "source": [
    "Expected output (kolom tidak semua ditampilkan):\n",
    "![Expected Output:](https://drive.google.com/uc?id=1_thZs6C82RhDFqWo5yGuZV_OWhgvqsnu)"
   ]
  },
  {
   "cell_type": "markdown",
   "metadata": {
    "colab_type": "text",
    "id": "8eRlFcl7IY-L"
   },
   "source": [
    "---"
   ]
  },
  {
   "cell_type": "markdown",
   "metadata": {
    "colab_type": "text",
    "id": "1O9_Cu_gIaxd"
   },
   "source": [
    "# Soal 3: Sorting dan Filtering"
   ]
  },
  {
   "cell_type": "markdown",
   "metadata": {
    "colab_type": "text",
    "id": "iIPsCyFSIh27"
   },
   "source": [
    "Dari DataFrame hasil penggabungan pada Soal 2 (atau gunakan salah satu supply DataFrame karena kolom nilai non-supply memiliki nilai yang sama), kemudian urutkan data (sort) berdasarkan kolom kematian ('Deaths') dari yang terbesar. Setelah itu lakukan perintah berikut:\n",
    "\n",
    "- Print data hasil sorting\n",
    "- Urutan ke berapakah Indonesia berdasarkan tingkat kematian akibat COVID-19 setelah diurutkan dari yang terbesar? Gunakan code mendapatkan nilainya! \n",
    "- Berapa persen dari terkonfirmasi jumlah kematian akibat COVID-19 di Indonesia? Hitung jumlah orang yang meninggal! Gunakan code mendapatkan nilainya! #hint: jumlah orang yang meninggal = populasi * kematian --> jangan lupa ada yang masih dalam persen\n"
   ]
  },
  {
   "cell_type": "code",
   "execution_count": 162,
   "metadata": {
    "colab": {},
    "colab_type": "code",
    "id": "n1yZCZ4bOo6m"
   },
   "outputs": [],
   "source": [
    "# Urutkan (sorting) dan print hasil sorting\n",
    "# Code here\n",
    "df4 = df3.sort_values('Deaths',ascending=False).reset_index(drop=True)"
   ]
  },
  {
   "cell_type": "code",
   "execution_count": 163,
   "metadata": {
    "colab": {},
    "colab_type": "code",
    "id": "FnohMVQwP8Og"
   },
   "outputs": [
    {
     "name": "stdout",
     "output_type": "stream",
     "text": [
      "Int64Index([70], dtype='int64')\n"
     ]
    }
   ],
   "source": [
    "# Urutan ke berapakah Indonesia\n",
    "# Code here\n",
    "kolom_indonesia = df4.loc[df['Country'] == 'Indonesia']\n",
    "kolom_indonesia\n",
    "#index + 1 karena mulai dari 0 \n",
    "index_indonesia = kolom_indonesia.index +1\n",
    "print(index_indonesia)\n",
    "#urutan ke 70"
   ]
  },
  {
   "cell_type": "code",
   "execution_count": 164,
   "metadata": {
    "colab_type": "text",
    "id": "Ur4P17eNVIDU"
   },
   "outputs": [
    {
     "name": "stdout",
     "output_type": "stream",
     "text": [
      "Jumlah yang meninggal di Indonesia ada 0.0009616943% dari jumlah populasi.\n",
      "Jumlah yang meninggal di Indonesia ada 17800 orang.\n"
     ]
    }
   ],
   "source": [
    "# Berapa persen jumlah kematian di Indonesia? Berapa Jumlahnya?\n",
    "# Code here\n",
    "meninggal_persen = float(row_indonesia['Deaths'])\n",
    "meninggal = float(row_indonesia['Deaths']) * float(row_indonesia['Population'])\n",
    "\n",
    "print(f'Jumlah yang meninggal di Indonesia ada {round(meninggal_persen, 10)}% dari jumlah populasi.') # 10 digit\n",
    "print(f'Jumlah yang meninggal di Indonesia ada {round(meninggal)} orang.')"
   ]
  },
  {
   "cell_type": "markdown",
   "metadata": {},
   "source": [
    "---"
   ]
  },
  {
   "cell_type": "markdown",
   "metadata": {
    "colab_type": "text",
    "id": "zOvEqSmuUsXy"
   },
   "source": [
    "# Soal 4: Binning, Grouping, dan Aggregating data"
   ]
  },
  {
   "cell_type": "markdown",
   "metadata": {
    "colab_type": "text",
    "id": "mLxskYLCTYFT"
   },
   "source": [
    "Lakukan binning pada kolom terkonfirmasi (Confirmed) COVID-19 dari DataFrame df_fat menjadi 5 bagian (q=5). Teman-teman dapat menggunakan fungsi qcut untuk melakukan bininng ini. Masukan data hasil binning tersebut menjadi kolom baru pada DataFrame df_fat. Beri nama kolom tersebut dengan 'Confirmed Category'. Berikan label 'Sangat Tidak Banyak', 'Tidak Banyak', 'Sedang', 'Cukup Banyak', 'Sangat Banyak'.\n",
    "\n",
    "Baca dokumentasi berikut untuk fungsi qcut : https://pandas.pydata.org/pandas-docs/stable/reference/api/pandas.qcut.html\n",
    "\n",
    "Kemudian lakukan perintah-perintah berikut:\n",
    "- Buat DataFrame baru yang berisi data grouping berdasarkan kolom hasil bininng atau kolom 'Confirmed Category'. \n",
    "- Lakukan grouping hanya pada kolom 'Obesity', 'Meat', 'Fruits - Excluding Wine', 'Fish, Seafood', 'Animal Products', 'Vegetal Products' saja.\n",
    "- Kemudian aggregate dengan fungsi mean. (df_baru = df_fat.groupby(...).mean())\n",
    "- Save DataFrame hasil binning, grouping, dan aggregating ke dalam file csv."
   ]
  },
  {
   "cell_type": "code",
   "execution_count": 165,
   "metadata": {
    "colab": {},
    "colab_type": "code",
    "id": "l8o8Gu2If9N6"
   },
   "outputs": [],
   "source": [
    "# Lakukan binning pada kolom terkonfirmasi untuk DataFrame df_fat\n",
    "labels = ['Sangat Tidak Banyak', 'Tidak Banyak', 'Sedang', 'Cukup Banyak', 'Sangat Banyak']\n",
    "\n",
    "# Code here\n",
    "df_fat['Confirmed Category'] = pd.qcut(df_fat[\"Confirmed\"],q=5,labels=labels)"
   ]
  },
  {
   "cell_type": "code",
   "execution_count": 166,
   "metadata": {
    "colab": {},
    "colab_type": "code",
    "id": "wH_Twtg9gLHZ"
   },
   "outputs": [
    {
     "data": {
      "text/html": [
       "<div>\n",
       "<style scoped>\n",
       "    .dataframe tbody tr th:only-of-type {\n",
       "        vertical-align: middle;\n",
       "    }\n",
       "\n",
       "    .dataframe tbody tr th {\n",
       "        vertical-align: top;\n",
       "    }\n",
       "\n",
       "    .dataframe thead th {\n",
       "        text-align: right;\n",
       "    }\n",
       "</style>\n",
       "<table border=\"1\" class=\"dataframe\">\n",
       "  <thead>\n",
       "    <tr style=\"text-align: right;\">\n",
       "      <th></th>\n",
       "      <th>Obesity</th>\n",
       "      <th>Meat</th>\n",
       "      <th>Fruits - Excluding Wine</th>\n",
       "      <th>Fish, Seafood</th>\n",
       "      <th>Animal Products</th>\n",
       "      <th>Vegetal Products</th>\n",
       "    </tr>\n",
       "    <tr>\n",
       "      <th>Confirmed Category</th>\n",
       "      <th></th>\n",
       "      <th></th>\n",
       "      <th></th>\n",
       "      <th></th>\n",
       "      <th></th>\n",
       "      <th></th>\n",
       "    </tr>\n",
       "  </thead>\n",
       "  <tbody>\n",
       "    <tr>\n",
       "      <th>Sangat Tidak Banyak</th>\n",
       "      <td>9.746875</td>\n",
       "      <td>8.945094</td>\n",
       "      <td>0.654076</td>\n",
       "      <td>0.898570</td>\n",
       "      <td>15.980406</td>\n",
       "      <td>34.019118</td>\n",
       "    </tr>\n",
       "    <tr>\n",
       "      <th>Tidak Banyak</th>\n",
       "      <td>19.378125</td>\n",
       "      <td>9.567672</td>\n",
       "      <td>0.552212</td>\n",
       "      <td>0.868281</td>\n",
       "      <td>20.006928</td>\n",
       "      <td>29.993700</td>\n",
       "    </tr>\n",
       "    <tr>\n",
       "      <th>Sedang</th>\n",
       "      <td>17.009375</td>\n",
       "      <td>8.294041</td>\n",
       "      <td>0.504541</td>\n",
       "      <td>0.773247</td>\n",
       "      <td>19.504572</td>\n",
       "      <td>30.496775</td>\n",
       "    </tr>\n",
       "    <tr>\n",
       "      <th>Cukup Banyak</th>\n",
       "      <td>22.228125</td>\n",
       "      <td>10.264081</td>\n",
       "      <td>0.488122</td>\n",
       "      <td>0.546644</td>\n",
       "      <td>24.330928</td>\n",
       "      <td>25.668950</td>\n",
       "    </tr>\n",
       "    <tr>\n",
       "      <th>Sangat Banyak</th>\n",
       "      <td>24.100000</td>\n",
       "      <td>9.777675</td>\n",
       "      <td>0.551213</td>\n",
       "      <td>0.946981</td>\n",
       "      <td>24.046600</td>\n",
       "      <td>25.953034</td>\n",
       "    </tr>\n",
       "  </tbody>\n",
       "</table>\n",
       "</div>"
      ],
      "text/plain": [
       "                       Obesity       Meat  Fruits - Excluding Wine  \\\n",
       "Confirmed Category                                                   \n",
       "Sangat Tidak Banyak   9.746875   8.945094                 0.654076   \n",
       "Tidak Banyak         19.378125   9.567672                 0.552212   \n",
       "Sedang               17.009375   8.294041                 0.504541   \n",
       "Cukup Banyak         22.228125  10.264081                 0.488122   \n",
       "Sangat Banyak        24.100000   9.777675                 0.551213   \n",
       "\n",
       "                     Fish, Seafood  Animal Products  Vegetal Products  \n",
       "Confirmed Category                                                     \n",
       "Sangat Tidak Banyak       0.898570        15.980406         34.019118  \n",
       "Tidak Banyak              0.868281        20.006928         29.993700  \n",
       "Sedang                    0.773247        19.504572         30.496775  \n",
       "Cukup Banyak              0.546644        24.330928         25.668950  \n",
       "Sangat Banyak             0.946981        24.046600         25.953034  "
      ]
     },
     "execution_count": 166,
     "metadata": {},
     "output_type": "execute_result"
    }
   ],
   "source": [
    "# Lakukan grouping pada kolom hasil binning ('Confirmed Category'), kemudian aggregate menggunakan fungsi mean\n",
    "cols = ['Obesity', 'Meat', 'Fruits - Excluding Wine', 'Fish, Seafood', 'Animal Products', 'Vegetal Products']\n",
    "\n",
    "# Code here\n",
    "\n",
    "groupby_confirmed = df_fat[cols].groupby(df_fat['Confirmed Category']).mean()\n",
    "groupby_confirmed"
   ]
  },
  {
   "cell_type": "markdown",
   "metadata": {
    "colab_type": "text",
    "id": "uoPr2JSfwi5x"
   },
   "source": [
    "Expected output:\n",
    "![Expected Output:](https://drive.google.com/uc?id=1jw1uGaSHaKlY9ILghmTTlO9NqhQpq8Ad)"
   ]
  },
  {
   "cell_type": "code",
   "execution_count": 167,
   "metadata": {
    "colab": {},
    "colab_type": "code",
    "id": "ylCxhoZIhQ1J"
   },
   "outputs": [],
   "source": [
    "# Save DataFrame hasil binning, grouping, dan aggregating\n",
    "\n",
    "groupby_confirmed.to_csv('groupby_confirmed.csv')"
   ]
  },
  {
   "cell_type": "markdown",
   "metadata": {
    "colab_type": "text",
    "id": "QXt4J6-ki7yV"
   },
   "source": [
    "---"
   ]
  },
  {
   "cell_type": "markdown",
   "metadata": {
    "colab_type": "text",
    "id": "KYkVllUIi9gk"
   },
   "source": [
    "# Soal 5: Bar plot"
   ]
  },
  {
   "cell_type": "markdown",
   "metadata": {
    "colab_type": "text",
    "id": "oW_a_78Fjkbx"
   },
   "source": [
    "Gunakan data grouping pada soal sebelumnya untuk melakukan visualisasi. Jika kalian tidak dapat menyelesaikan soal tersebut, maka silahkan [download](https://drive.google.com/uc?export=download&id=1l5wFAKKShPQQvIe0rQ7C4Xog9tt_WDN0) data berikut yang merupakan hasil dari data grouping soal 4.\n",
    "\n",
    "Normalisasi data hasil grouping tersebut dengan rumus min-max normalisasi seperti rumus berikut ini. Kemudian buatlah grouping Visualization dengan berplot, visualisasikan data column 'Obesity', 'Fruits - Excluding Wine', 'Fish, Seafood', 'Animal Products' dan 'Vegetal Products'. "
   ]
  },
  {
   "cell_type": "markdown",
   "metadata": {
    "colab_type": "text",
    "id": "884pC4nnWZVg"
   },
   "source": [
    "\\begin{equation*}\n",
    " X_{norm} = \\dfrac{X - X_{min}}{X_{max} - X_{min}}\n",
    "\\end{equation*}\n"
   ]
  },
  {
   "cell_type": "code",
   "execution_count": 168,
   "metadata": {
    "colab": {},
    "colab_type": "code",
    "id": "-5tpx0PNlUQx"
   },
   "outputs": [
    {
     "data": {
      "text/html": [
       "<div>\n",
       "<style scoped>\n",
       "    .dataframe tbody tr th:only-of-type {\n",
       "        vertical-align: middle;\n",
       "    }\n",
       "\n",
       "    .dataframe tbody tr th {\n",
       "        vertical-align: top;\n",
       "    }\n",
       "\n",
       "    .dataframe thead th {\n",
       "        text-align: right;\n",
       "    }\n",
       "</style>\n",
       "<table border=\"1\" class=\"dataframe\">\n",
       "  <thead>\n",
       "    <tr style=\"text-align: right;\">\n",
       "      <th></th>\n",
       "      <th>Obesity</th>\n",
       "      <th>Meat</th>\n",
       "      <th>Fruits - Excluding Wine</th>\n",
       "      <th>Fish, Seafood</th>\n",
       "      <th>Animal Products</th>\n",
       "      <th>Vegetal Products</th>\n",
       "    </tr>\n",
       "    <tr>\n",
       "      <th>Confirmed Category</th>\n",
       "      <th></th>\n",
       "      <th></th>\n",
       "      <th></th>\n",
       "      <th></th>\n",
       "      <th></th>\n",
       "      <th></th>\n",
       "    </tr>\n",
       "  </thead>\n",
       "  <tbody>\n",
       "    <tr>\n",
       "      <th>Sangat Tidak Banyak</th>\n",
       "      <td>9.746875</td>\n",
       "      <td>8.945094</td>\n",
       "      <td>0.654076</td>\n",
       "      <td>0.898570</td>\n",
       "      <td>15.980406</td>\n",
       "      <td>34.019118</td>\n",
       "    </tr>\n",
       "    <tr>\n",
       "      <th>Tidak Banyak</th>\n",
       "      <td>19.378125</td>\n",
       "      <td>9.567672</td>\n",
       "      <td>0.552212</td>\n",
       "      <td>0.868281</td>\n",
       "      <td>20.006928</td>\n",
       "      <td>29.993700</td>\n",
       "    </tr>\n",
       "    <tr>\n",
       "      <th>Sedang</th>\n",
       "      <td>17.009375</td>\n",
       "      <td>8.294041</td>\n",
       "      <td>0.504541</td>\n",
       "      <td>0.773247</td>\n",
       "      <td>19.504572</td>\n",
       "      <td>30.496775</td>\n",
       "    </tr>\n",
       "    <tr>\n",
       "      <th>Cukup Banyak</th>\n",
       "      <td>22.228125</td>\n",
       "      <td>10.264081</td>\n",
       "      <td>0.488122</td>\n",
       "      <td>0.546644</td>\n",
       "      <td>24.330928</td>\n",
       "      <td>25.668950</td>\n",
       "    </tr>\n",
       "    <tr>\n",
       "      <th>Sangat Banyak</th>\n",
       "      <td>24.100000</td>\n",
       "      <td>9.777675</td>\n",
       "      <td>0.551213</td>\n",
       "      <td>0.946981</td>\n",
       "      <td>24.046600</td>\n",
       "      <td>25.953034</td>\n",
       "    </tr>\n",
       "  </tbody>\n",
       "</table>\n",
       "</div>"
      ],
      "text/plain": [
       "                       Obesity       Meat  Fruits - Excluding Wine  \\\n",
       "Confirmed Category                                                   \n",
       "Sangat Tidak Banyak   9.746875   8.945094                 0.654076   \n",
       "Tidak Banyak         19.378125   9.567672                 0.552212   \n",
       "Sedang               17.009375   8.294041                 0.504541   \n",
       "Cukup Banyak         22.228125  10.264081                 0.488122   \n",
       "Sangat Banyak        24.100000   9.777675                 0.551213   \n",
       "\n",
       "                     Fish, Seafood  Animal Products  Vegetal Products  \n",
       "Confirmed Category                                                     \n",
       "Sangat Tidak Banyak       0.898570        15.980406         34.019118  \n",
       "Tidak Banyak              0.868281        20.006928         29.993700  \n",
       "Sedang                    0.773247        19.504572         30.496775  \n",
       "Cukup Banyak              0.546644        24.330928         25.668950  \n",
       "Sangat Banyak             0.946981        24.046600         25.953034  "
      ]
     },
     "metadata": {},
     "output_type": "display_data"
    }
   ],
   "source": [
    "# Gunakan DataFrame hasil grouping soal 4 atau read data hasil download jika tidak dapat mengerjakan soal 4\n",
    "df = groupby_confirmed\n",
    "\n",
    "# Atau\n",
    "\n",
    "df = pd.read_csv('groupby_confirmed.csv').set_index('Confirmed Category')\n",
    "\n",
    "# Lihat df dan pastikan sesuai dengan expected output pada soal 4\n",
    "display(df)"
   ]
  },
  {
   "cell_type": "code",
   "execution_count": 176,
   "metadata": {
    "colab": {},
    "colab_type": "code",
    "id": "nokTOpibmhD0"
   },
   "outputs": [
    {
     "data": {
      "text/html": [
       "<div>\n",
       "<style scoped>\n",
       "    .dataframe tbody tr th:only-of-type {\n",
       "        vertical-align: middle;\n",
       "    }\n",
       "\n",
       "    .dataframe tbody tr th {\n",
       "        vertical-align: top;\n",
       "    }\n",
       "\n",
       "    .dataframe thead th {\n",
       "        text-align: right;\n",
       "    }\n",
       "</style>\n",
       "<table border=\"1\" class=\"dataframe\">\n",
       "  <thead>\n",
       "    <tr style=\"text-align: right;\">\n",
       "      <th></th>\n",
       "      <th>Obesity</th>\n",
       "      <th>Meat</th>\n",
       "      <th>Fruits - Excluding Wine</th>\n",
       "      <th>Fish, Seafood</th>\n",
       "      <th>Animal Products</th>\n",
       "      <th>Vegetal Products</th>\n",
       "    </tr>\n",
       "    <tr>\n",
       "      <th>Confirmed Category</th>\n",
       "      <th></th>\n",
       "      <th></th>\n",
       "      <th></th>\n",
       "      <th></th>\n",
       "      <th></th>\n",
       "      <th></th>\n",
       "    </tr>\n",
       "  </thead>\n",
       "  <tbody>\n",
       "    <tr>\n",
       "      <th>Sangat Tidak Banyak</th>\n",
       "      <td>0.000000</td>\n",
       "      <td>0.330477</td>\n",
       "      <td>1.000000</td>\n",
       "      <td>0.879073</td>\n",
       "      <td>0.000000</td>\n",
       "      <td>1.000000</td>\n",
       "    </tr>\n",
       "    <tr>\n",
       "      <th>Tidak Banyak</th>\n",
       "      <td>0.671021</td>\n",
       "      <td>0.646500</td>\n",
       "      <td>0.386195</td>\n",
       "      <td>0.803416</td>\n",
       "      <td>0.482188</td>\n",
       "      <td>0.517924</td>\n",
       "    </tr>\n",
       "    <tr>\n",
       "      <th>Sedang</th>\n",
       "      <td>0.505987</td>\n",
       "      <td>0.000000</td>\n",
       "      <td>0.098936</td>\n",
       "      <td>0.566030</td>\n",
       "      <td>0.422029</td>\n",
       "      <td>0.578171</td>\n",
       "    </tr>\n",
       "    <tr>\n",
       "      <th>Cukup Banyak</th>\n",
       "      <td>0.869584</td>\n",
       "      <td>1.000000</td>\n",
       "      <td>0.000000</td>\n",
       "      <td>0.000000</td>\n",
       "      <td>1.000000</td>\n",
       "      <td>0.000000</td>\n",
       "    </tr>\n",
       "    <tr>\n",
       "      <th>Sangat Banyak</th>\n",
       "      <td>1.000000</td>\n",
       "      <td>0.753098</td>\n",
       "      <td>0.380170</td>\n",
       "      <td>1.000000</td>\n",
       "      <td>0.965951</td>\n",
       "      <td>0.034021</td>\n",
       "    </tr>\n",
       "  </tbody>\n",
       "</table>\n",
       "</div>"
      ],
      "text/plain": [
       "                      Obesity      Meat  Fruits - Excluding Wine  \\\n",
       "Confirmed Category                                                 \n",
       "Sangat Tidak Banyak  0.000000  0.330477                 1.000000   \n",
       "Tidak Banyak         0.671021  0.646500                 0.386195   \n",
       "Sedang               0.505987  0.000000                 0.098936   \n",
       "Cukup Banyak         0.869584  1.000000                 0.000000   \n",
       "Sangat Banyak        1.000000  0.753098                 0.380170   \n",
       "\n",
       "                     Fish, Seafood  Animal Products  Vegetal Products  \n",
       "Confirmed Category                                                     \n",
       "Sangat Tidak Banyak       0.879073         0.000000          1.000000  \n",
       "Tidak Banyak              0.803416         0.482188          0.517924  \n",
       "Sedang                    0.566030         0.422029          0.578171  \n",
       "Cukup Banyak              0.000000         1.000000          0.000000  \n",
       "Sangat Banyak             1.000000         0.965951          0.034021  "
      ]
     },
     "metadata": {},
     "output_type": "display_data"
    }
   ],
   "source": [
    "# Lakukan normalisasi pada DataFrame df\n",
    "# Code here\n",
    "def normalisasi(x):\n",
    "    return (x - x.min())/(x.max() - x.min())\n",
    "    \n",
    "df_norm = df.apply(normalisasi)\n",
    "\n",
    "# Lihat df_norm dan pastikan sesuai dengan expected output\n",
    "display(df_norm)"
   ]
  },
  {
   "cell_type": "markdown",
   "metadata": {
    "colab_type": "text",
    "id": "37rjPjbanRNY"
   },
   "source": [
    "Expected output:\n",
    "![Expected Output:](https://drive.google.com/uc?id=1BFzcOFHbZMnw0wqbwl8K6IEiVmurqG84)"
   ]
  },
  {
   "cell_type": "code",
   "execution_count": 241,
   "metadata": {
    "colab": {},
    "colab_type": "code",
    "id": "lMzOW9t7nU-I"
   },
   "outputs": [
    {
     "data": {
      "image/png": "[encoded data removed]",
      "text/plain": [
       "<Figure size 1080x540 with 1 Axes>"
      ]
     },
     "metadata": {
      "needs_background": "light"
     },
     "output_type": "display_data"
    }
   ],
   "source": [
    "# Buat bar plot dari df_norm sesuai dengan expected output\n",
    "# Code here\n",
    "df_norm2 = df_norm2.round(2)\n",
    "labels = list(df_norm2.index)\n",
    "\n",
    "norm_SangatTidakBanyak = df_norm2['Sangat Tidak Banyak']\n",
    "norm_TidakBanyak = df_norm2['Tidak Banyak']\n",
    "norm_Sedang = df_norm2['Sedang']\n",
    "norm_CukupBanyak = df_norm2['Cukup Banyak']\n",
    "norm_SangatBanyak = df_norm2['Sangat Banyak']\n",
    "\n",
    "x = np.arange(len(labels))\n",
    "width = 0.1\n",
    "\n",
    "df_norm2 = df_norm.T.rename_axis(None)\n",
    "df_norm2.columns.name = None\n",
    "\n",
    "# Untuk menambahkan label di atas barplot lihat https://matplotlib.org/3.1.1/gallery/lines_bars_and_markers/barchart.html\n",
    "\n",
    "fig, ax = plt.subplots(figsize=(15,7.5))\n",
    "rects1 = ax.bar(x-0.2, norm_SangatTidakBanyak, width, label='Sangat Tidak Banyak')\n",
    "rects2 = ax.bar(x-0.1 , norm_TidakBanyak, width, label='Tidak Banyak')\n",
    "rects3 = ax.bar(x, norm_Sedang, width, label='Sedang')\n",
    "rects4 = ax.bar(x+0.1, norm_CukupBanyak, width, label='Cukup Banyak')\n",
    "rects5 = ax.bar(x+0.2, norm_SangatBanyak, width, label='Sangat Banyak')\n",
    "\n",
    "ax.set_title('Perbandingan Konsumsi Makanan Berdasarkan Tingkat Kasus COVID-19')\n",
    "ax.set_xticks(x)\n",
    "ax.set_xticklabels(labels)\n",
    "plt.legend(bbox_to_anchor=[1.08,1.18],frameon=True)\n",
    "\n",
    "\n",
    "def autolabel(rects):\n",
    "    for rect in rects:\n",
    "        height = rect.get_height()\n",
    "        ax.annotate('{}'.format(height),\n",
    "                    xy=(rect.get_x() + rect.get_width() / 2, height),\n",
    "                    xytext=(0, 3),  \n",
    "                    textcoords=\"offset points\",\n",
    "                    ha='center', va='bottom')\n",
    "\n",
    "\n",
    "autolabel(rects1)\n",
    "autolabel(rects2)\n",
    "autolabel(rects3)\n",
    "autolabel(rects4)\n",
    "autolabel(rects5)\n",
    "\n",
    "fig.tight_layout()\n",
    "plt.show()"
   ]
  },
  {
   "cell_type": "markdown",
   "metadata": {
    "colab_type": "text",
    "id": "FIul1KSeoMsh"
   },
   "source": [
    "Expected output:\n",
    "![Expected Output:](https://drive.google.com/uc?id=11x5OMAB8mbZurD0qntxcwOcWYCQSegy8)\n"
   ]
  },
  {
   "cell_type": "markdown",
   "metadata": {
    "colab_type": "text",
    "id": "KZJq0YxNp7bM"
   },
   "source": [
    "---"
   ]
  },
  {
   "cell_type": "markdown",
   "metadata": {
    "colab_type": "text",
    "id": "LoJ9IXHBp890"
   },
   "source": [
    "# Soal 6: Scatter plot\n"
   ]
  },
  {
   "cell_type": "markdown",
   "metadata": {
    "colab_type": "text",
    "id": "5sQPxjyIrrkM"
   },
   "source": [
    "Buatlah visualisasi scatter plot dari df_food antara Supply Sayuran ('Vegetal Products') dan persentase terkonfirmasi ('Confirmed') COVID-19 sesuai expected output dengan ketentuan berikut:\n",
    "\n",
    "\n",
    "* Gunakan kolom persentase kematian ('Death') sebagai ukuran pointnya kalikan suatu angka yang cukup besar agar terlihat.\n",
    "    \n",
    "* Gunakan kolom persentase produk hewani ('Animal Products') sebagai warna point, berikan colormap 'viridis'."
   ]
  },
  {
   "cell_type": "code",
   "execution_count": 171,
   "metadata": {
    "colab": {},
    "colab_type": "code",
    "id": "8-nxlX2zp8Lw"
   },
   "outputs": [
    {
     "data": {
      "image/png": "[encoded data removed]",
      "text/plain": [
       "<Figure size 1296x864 with 2 Axes>"
      ]
     },
     "metadata": {
      "needs_background": "light"
     },
     "output_type": "display_data"
    }
   ],
   "source": [
    "fig, ax = plt.subplots(figsize=(18, 12))\n",
    "\n",
    "# Code here\n",
    "sizes = df_food[\"Deaths\"]*100000\n",
    "colors = df_food[\"Animal Products\"]\n",
    "\n",
    "ax1 = ax.scatter(df_food[\"Vegetal Products\"],df_food[\"Confirmed\"], c=colors, s=sizes, cmap=\"viridis\",alpha=0.5)\n",
    "ax.set_title(\"Healthy Food and Covid-19\")\n",
    "ax.set_ylabel(\"Covid-19 case confirmed\")\n",
    "ax.set_xlabel(\"Supply Vegetal Products\")\n",
    "fig.colorbar(ax1)\n",
    "plt.show()"
   ]
  },
  {
   "cell_type": "markdown",
   "metadata": {
    "colab_type": "text",
    "id": "aBr40jb0uXSg"
   },
   "source": [
    "Expected output:\n",
    "![Expected Output:](https://drive.google.com/uc?id=1wJh3tfkPbrkf3_F73RW0kABBt_NO8q53)"
   ]
  }
 ],
 "metadata": {
  "colab": {
   "authorship_tag": "ABX9TyOIzMCQPPRhLt9bnYEJxo5m",
   "collapsed_sections": [],
   "name": "Quiz Pekan - 3.ipynb",
   "provenance": []
  },
  "kernelspec": {
   "display_name": "Python 3",
   "language": "python",
   "name": "python3"
  },
  "language_info": {
   "codemirror_mode": {
    "name": "ipython",
    "version": 3
   },
   "file_extension": ".py",
   "mimetype": "text/x-python",
   "name": "python",
   "nbconvert_exporter": "python",
   "pygments_lexer": "ipython3",
   "version": "3.7.6"
  }
 },
 "nbformat": 4,
 "nbformat_minor": 1
}

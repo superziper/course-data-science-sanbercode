{
 "cells": [
  {
   "cell_type": "markdown",
   "metadata": {
    "colab_type": "text",
    "id": "a9HYUdCUsrKl"
   },
   "source": [
    "<h2>Soal 1: Comparison Operator</h2>\n",
    "\n",
    "- Berikan contoh comparison dari tipe data string\n",
    "- Berikan contoh comparison dari tipe data boolean\n",
    "- Berikan contoh comparison dari tipe data integer"
   ]
  },
  {
   "cell_type": "code",
   "execution_count": 33,
   "metadata": {
    "colab": {},
    "colab_type": "code",
    "id": "lXMCHZ71srKp"
   },
   "outputs": [
    {
     "name": "stdout",
     "output_type": "stream",
     "text": [
      "False\n",
      "True\n",
      "False\n",
      "True\n",
      "==========\n",
      "False\n",
      "True\n",
      "True\n",
      "False\n",
      "==========\n",
      "False\n",
      "True\n",
      "False\n",
      "True\n",
      "==========\n"
     ]
    }
   ],
   "source": [
    "#string mengubah nilai stringnya per karakter sesuai nilai pada ASCII\n",
    "a = \"alisya\"\n",
    "b = \"arikha\"\n",
    "\n",
    "print(a==b)\n",
    "print(a!=b)\n",
    "print(a>b)\n",
    "print(a<b)\n",
    "print(10*\"=\")\n",
    "\n",
    "#boolean\n",
    "a= True\n",
    "b = False\n",
    "print(a==b)\n",
    "print(a!=b)\n",
    "print(a>b)\n",
    "print(a<b)\n",
    "print(10*\"=\")\n",
    "\n",
    "#integer\n",
    "a=5\n",
    "b=10 \n",
    "print(a==b)\n",
    "print(a!=b)\n",
    "print(a>b)\n",
    "print(a<b)\n",
    "print(10*\"=\")\n"
   ]
  },
  {
   "cell_type": "markdown",
   "metadata": {
    "colab_type": "text",
    "id": "IbNoZvVssrK5"
   },
   "source": [
    "<h2>Soal 2: Boolean Comparison</h2>\n",
    "\n",
    "- Berikan contoh gabungan multiple comparison menggunkan Boolean Comparisin 'and'\n",
    "- Berikan contoh gabungan multiple comparison menggunkan Boolean Comparisin 'or'\n",
    "- Berikan contoh gabungan multiple comparison menggunkan Boolean Comparisin 'not'"
   ]
  },
  {
   "cell_type": "code",
   "execution_count": 77,
   "metadata": {
    "colab": {},
    "colab_type": "code",
    "id": "7eU1vPLCsrK7"
   },
   "outputs": [
    {
     "name": "stdout",
     "output_type": "stream",
     "text": [
      "KOMPARASI AND\n",
      "barang ini baru harganya murah dan kualitasnya bagus\n",
      "barang dibeli\n",
      "barang ini lama harganya murah dan kualitasnya bagus\n",
      "barang tidak dibeli\n",
      "barang ini baru harganya murah dan kualitasnya jelek\n",
      "barang tidak dibeli\n",
      "barang ini lama harganya murah dan kualitasnya jelek\n",
      "barang tidak dibeli\n",
      "barang ini baru harganya mahal dan kualitasnya bagus\n",
      "barang tidak dibeli\n",
      "barang ini lama harganya mahal dan kualitasnya bagus\n",
      "barang tidak dibeli\n",
      "barang ini baru harganya mahal dan kualitasnya jelek\n",
      "barang tidak dibeli\n",
      "barang ini lama harganya mahal dan kualitasnya jelek\n",
      "barang tidak dibeli\n",
      "==================================================\n",
      "KOMPARASI OR\n",
      "barang ini baru harganya murah dan kualitasnya bagus\n",
      "barang dibeli\n",
      "barang ini lama harganya murah dan kualitasnya bagus\n",
      "barang dibeli\n",
      "barang ini baru harganya murah dan kualitasnya jelek\n",
      "barang dibeli\n",
      "barang ini lama harganya murah dan kualitasnya jelek\n",
      "barang tidak dibeli\n",
      "barang ini baru harganya mahal dan kualitasnya bagus\n",
      "barang dibeli\n",
      "barang ini lama harganya mahal dan kualitasnya bagus\n",
      "barang dibeli\n",
      "barang ini baru harganya mahal dan kualitasnya jelek\n",
      "barang dibeli\n",
      "barang ini lama harganya mahal dan kualitasnya jelek\n",
      "barang dibeli\n",
      "==================================================\n",
      "KOMPARASI NOT\n",
      "barang ini baru harganya murah dan kualitasnya bagus\n",
      "barang dibeli\n",
      "barang ini lama harganya murah dan kualitasnya bagus\n",
      "barang dibeli\n",
      "barang ini baru harganya murah dan kualitasnya jelek\n",
      "barang tidak dibeli\n",
      "barang ini lama harganya murah dan kualitasnya jelek\n",
      "barang tidak dibeli\n",
      "barang ini baru harganya mahal dan kualitasnya bagus\n",
      "barang dibeli\n",
      "barang ini lama harganya mahal dan kualitasnya bagus\n",
      "barang dibeli\n",
      "barang ini baru harganya mahal dan kualitasnya jelek\n",
      "barang tidak dibeli\n",
      "barang ini lama harganya mahal dan kualitasnya jelek\n",
      "barang tidak dibeli\n"
     ]
    }
   ],
   "source": [
    "#keadaan suatu barang (3 buah kondisi) dalam boolean (hanya 2 pilihan)\n",
    "harga = [\"murah\", \"mahal\"]\n",
    "kualitas = [\"bagus\", \"jelek\"]\n",
    "produksi = [\"baru\",\"lama\"]\n",
    "\n",
    "#komparasi and\n",
    "#barang yang dibeli bagus dan murah dan baru\n",
    "\n",
    "print (\"KOMPARASI AND\")\n",
    "\n",
    "\n",
    "for a in harga:\n",
    "    for b in kualitas:\n",
    "        for c in produksi:\n",
    "            print (\"barang ini\",c,\"harganya\",a,\"dan kualitasnya\",b)        \n",
    "            if a is \"murah\" and b is \"bagus\" and c is \"baru\":\n",
    "                print(\"barang dibeli\")\n",
    "            else:\n",
    "                print(\"barang tidak dibeli\")\n",
    "            \n",
    "print (50*\"=\")\n",
    "\n",
    "#komparasi or\n",
    "#barang yang dibeli harus yang bagus atau mahal atau baru\n",
    "print (\"KOMPARASI OR\")\n",
    "\n",
    "\n",
    "for a in harga:\n",
    "    for b in kualitas:\n",
    "        for c in produksi:\n",
    "            print (\"barang ini\",c,\"harganya\",a,\"dan kualitasnya\",b)         \n",
    "            if b is \"bagus\" or a is \"mahal\" or c is \"baru\":\n",
    "                print(\"barang dibeli\")\n",
    "            else:\n",
    "                print(\"barang tidak dibeli\")\n",
    "            \n",
    "print (50*\"=\")\n",
    "\n",
    "#komparasi not\n",
    "#mencari barang yang tidak jelek \n",
    "print(\"KOMPARASI NOT\")\n",
    "for a in harga:\n",
    "    for b in kualitas:\n",
    "        for c in produksi:\n",
    "            print (\"barang ini\",c,\"harganya\",a,\"dan kualitasnya\",b)\n",
    "            if b is not \"jelek\":\n",
    "                print(\"barang dibeli\")\n",
    "            else:\n",
    "                print(\"barang tidak dibeli\")"
   ]
  },
  {
   "cell_type": "markdown",
   "metadata": {
    "colab_type": "text",
    "id": "Yp_g_sPMsrLH"
   },
   "source": [
    "<h2>Soal 3: If-Else Statement</h2>\n",
    "\n",
    "Lengkapi kode untuk menghasilkan suatu output yang di harapkan\n",
    "\n",
    "- Bualah sebuah if-else statement yang dimana akan mem-print 'Besar' jika ruangan adalah 'Kamar' dan ukuran lebih dari 12, kemudian mem-print 'Sedang' jika ruangan adalah 'Kamar' dan ukuran lebih dari 6 dan memprint 'Kecil' jika ruangan adalah 'Kamar' dan ukuran ruangan lebih kecil dan sama dengan 6."
   ]
  },
  {
   "cell_type": "code",
   "execution_count": 48,
   "metadata": {
    "colab": {},
    "colab_type": "code",
    "id": "euRiRNupsrLK"
   },
   "outputs": [
    {
     "name": "stdout",
     "output_type": "stream",
     "text": [
      "Sedang\n"
     ]
    }
   ],
   "source": [
    "ruangan = 'Kamar'\n",
    "size = 7\n",
    "\n",
    "if size > 12 and ruangan is 'Kamar':\n",
    "    print('Besar')\n",
    "elif 12 >= size > 6 and ruangan is 'Kamar' :\n",
    "    print('Sedang')\n",
    "elif 6 >= size and ruangan is 'Kamar':\n",
    "    print('Kecil')"
   ]
  },
  {
   "cell_type": "markdown",
   "metadata": {
    "colab_type": "text",
    "id": "IcoJXJT1srLW"
   },
   "source": [
    "<h2>Soal 4: Comparison Operator dengan fungsi</h2>\n",
    "\n",
    "Buatlah sebuah fungsi yang menerima satu argument bertipe data numeric dan menghasilkan sebuah return sebagai berikut :\n",
    "- menghasilkan return 'Aneh' jika nilai dari argument tersebut adalah bilangan ganjil\n",
    "- menghasilkan return 'Tidak Aneh' jika nilai dari argument tersebut adalah bilangan genap dan diantara nilai 2 sampai 5 (2 dan 5 termasuk)\n",
    "- menghasilkan return 'Aneh' jika nilai dari argument tersebut adalah bilangan genap dan diantara nilai 6 sampai 20 (6 dan 20 termasuk)\n",
    "- menghasilkan return 'Tidak Aneh' jika nilai dari argument tersebut adalah bilangan genap dan lebih besari dari 20"
   ]
  },
  {
   "cell_type": "code",
   "execution_count": 6,
   "metadata": {
    "colab": {},
    "colab_type": "code",
    "id": "g8F_qfEKsrLZ"
   },
   "outputs": [
    {
     "name": "stdout",
     "output_type": "stream",
     "text": [
      "Masukkan nilai: 20\n",
      "Aneh\n"
     ]
    }
   ],
   "source": [
    "# Buat fungsi\n",
    "\n",
    "nilai = input(\"Masukkan nilai: \")\n",
    "\n",
    "def komparasi_input(nilai):\n",
    "    if int(nilai)%2!=0:\n",
    "        print(\"Aneh\")\n",
    "    elif int(nilai)%2==0 and 20 >= int(nilai) >= 6:\n",
    "        print(\"Aneh\")\n",
    "    else:\n",
    "        print(\"Tidak Aneh\")\n",
    "        \n",
    "komparasi_input(nilai)\n"
   ]
  },
  {
   "cell_type": "markdown",
   "metadata": {
    "colab_type": "text",
    "id": "gf0D64xOsrLl"
   },
   "source": [
    "<h2>Soal 5: While Loop dan For Loop</h2>\n",
    "\n",
    "- Apa perbedaan while loop dan for loop?\n",
    "- Berikan contoh sederhana cara menggunakan while loop dan for loop"
   ]
  },
  {
   "cell_type": "raw",
   "metadata": {},
   "source": [
    "while melakukan loop dengan menjalankan perintah sampai suatu syarat kondisi terpenuhi (atau selama kondisi bernilai true)\n",
    "for melakukan loop sampai semua perintah yang diprogramkan dijalankan"
   ]
  },
  {
   "cell_type": "code",
   "execution_count": 18,
   "metadata": {
    "colab": {},
    "colab_type": "code",
    "id": "l7KIgpjHsrLo"
   },
   "outputs": [
    {
     "name": "stdout",
     "output_type": "stream",
     "text": [
      "0\n",
      "1\n",
      "2\n",
      "3\n",
      "4\n",
      "5\n",
      "6\n",
      "7\n",
      "8\n",
      "9\n",
      "0\n",
      "1\n",
      "2\n",
      "3\n",
      "4\n",
      "5\n",
      "6\n",
      "7\n",
      "8\n",
      "9\n"
     ]
    }
   ],
   "source": [
    "# Tulis Kode\n",
    "#while loop\n",
    "number = 0\n",
    "while number < 10:\n",
    "    print (number)\n",
    "    number += 1\n",
    "    \n",
    "#for loop\n",
    "for num in range(0,10):\n",
    "    print(num)"
   ]
  },
  {
   "cell_type": "markdown",
   "metadata": {
    "colab_type": "text",
    "id": "fZQpBGCgsrLz"
   },
   "source": [
    "<h2>Soal 6: While Loop</h2>\n",
    "    \n",
    "Buatlah sebuah code while loop sebagai berikut :\n",
    "- Buatlah suatu fungsi yang merima satu input nilai numeric\n",
    "- Dalam fungsi, Buat sebuah while-loop dengan melakukan comparasi terhadap inputan tersebut, dimana looping/iterasi terus berjalan apabila nilai inputan tidak sama dengan 0\n",
    "- Dalam setiap iterasi update nilai variable inputan itu, jika input lebih dari 0, maka kurangi variabel tersebut sebesar 1, selain itu tambahkan 1\n",
    "- print nilai variable input dalam setiap awal iterasi"
   ]
  },
  {
   "cell_type": "code",
   "execution_count": 49,
   "metadata": {
    "colab": {},
    "colab_type": "code",
    "id": "yOiqjrU2srL1"
   },
   "outputs": [
    {
     "name": "stdout",
     "output_type": "stream",
     "text": [
      "Masukkan nilai: 10\n",
      "10\n",
      "9\n",
      "8\n",
      "7\n",
      "6\n",
      "5\n",
      "4\n",
      "3\n",
      "2\n",
      "1\n"
     ]
    }
   ],
   "source": [
    "# misal dimasukkan 10\n",
    "a = int(input(\"Masukkan nilai: \"))\n",
    "\n",
    "def fungsi_while(a):\n",
    "    while a != 0:\n",
    "        print (a)\n",
    "        if 0 >= a:\n",
    "            a += 1\n",
    "        else:\n",
    "            a -= 1\n",
    "            \n",
    "fungsi_while(a)"
   ]
  },
  {
   "cell_type": "markdown",
   "metadata": {
    "colab_type": "text",
    "id": "lKzngRrlsrMD"
   },
   "source": [
    "Expected Output:\n",
    "\n",
    "10\n",
    "\n",
    "9\n",
    "\n",
    "8\n",
    "\n",
    "7\n",
    "\n",
    "6\n",
    "\n",
    "5\n",
    "\n",
    "4\n",
    "\n",
    "3\n",
    "\n",
    "2\n",
    "\n",
    "1"
   ]
  },
  {
   "cell_type": "markdown",
   "metadata": {
    "colab_type": "text",
    "id": "IWg3Z_zZsrMG"
   },
   "source": [
    "<h2>Soal 7: For Loop</h2>\n",
    "    \n",
    "Lengkapi kode untuk menghasilkan suatu output yang di harapkan:\n",
    "\n",
    "- Buatlah sebuah loop dengan mengiterasi sebuah objek list kemudian di kalikan dengan index dari list tersebut dan print hasilnya"
   ]
  },
  {
   "cell_type": "code",
   "execution_count": 16,
   "metadata": {
    "colab": {},
    "colab_type": "code",
    "id": "_Jl5i7WKsrMI"
   },
   "outputs": [
    {
     "name": "stdout",
     "output_type": "stream",
     "text": [
      "0\n",
      "16\n",
      "22\n",
      "30\n",
      "20\n"
     ]
    }
   ],
   "source": [
    "obj_list= [1, 16, 11, 10, 5]\n",
    "\n",
    "# lengkapi code di bawah\n",
    "for index,number in enumerate(obj_list):\n",
    "    print(index*number)\n"
   ]
  },
  {
   "cell_type": "markdown",
   "metadata": {
    "colab_type": "text",
    "id": "OGawROjnsrMU"
   },
   "source": [
    "Expected Output:\n",
    "\n",
    "0\n",
    "\n",
    "16\n",
    "\n",
    "22\n",
    "\n",
    "30\n",
    "\n",
    "20\n"
   ]
  }
 ],
 "metadata": {
  "colab": {
   "name": "Tugas Hari 4.ipynb",
   "provenance": []
  },
  "kernelspec": {
   "display_name": "Python 3",
   "language": "python",
   "name": "python3"
  },
  "language_info": {
   "codemirror_mode": {
    "name": "ipython",
    "version": 3
   },
   "file_extension": ".py",
   "mimetype": "text/x-python",
   "name": "python",
   "nbconvert_exporter": "python",
   "pygments_lexer": "ipython3",
   "version": "3.7.6"
  }
 },
 "nbformat": 4,
 "nbformat_minor": 1
}
